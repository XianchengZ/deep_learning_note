{
 "cells": [
  {
   "cell_type": "code",
   "execution_count": 1,
   "id": "9ecd7fdf",
   "metadata": {},
   "outputs": [],
   "source": [
    "import matplotlib.pyplot as plt"
   ]
  },
  {
   "cell_type": "code",
   "execution_count": 2,
   "id": "28d1f40c",
   "metadata": {},
   "outputs": [],
   "source": [
    "import numpy as np\n",
    "\n",
    "N = 100\n",
    "D = 2\n",
    "\n",
    "X = np.random.randn(N, D)"
   ]
  },
  {
   "cell_type": "code",
   "execution_count": 3,
   "id": "2de4211f",
   "metadata": {},
   "outputs": [],
   "source": [
    "X[:50, :] = X[:50, :] - 2 * np.ones((50, D))\n",
    "X[50:, :] = X[50:, :] + 2 * np.ones((50, D))\n",
    "\n",
    "T = np.array([0] * 50 + [1] * 50)"
   ]
  },
  {
   "cell_type": "code",
   "execution_count": 4,
   "id": "96614db1",
   "metadata": {},
   "outputs": [],
   "source": [
    "ones = np.array([[1] * N]).T\n",
    "Xb = np.concatenate((ones, X), axis=1)\n"
   ]
  },
  {
   "cell_type": "code",
   "execution_count": 5,
   "id": "f3faa9e2",
   "metadata": {},
   "outputs": [],
   "source": [
    "# random assign weights\n",
    "w = np.random.randn(D + 1)\n",
    "\n",
    "# calculate the model output\n",
    "Z = Xb.dot(w)"
   ]
  },
  {
   "cell_type": "code",
   "execution_count": 6,
   "id": "538fcc5e",
   "metadata": {},
   "outputs": [],
   "source": [
    "def sigmoid(z):\n",
    "    return 1 / (1 + np.exp(-z))"
   ]
  },
  {
   "cell_type": "code",
   "execution_count": 7,
   "id": "2fdb49d1",
   "metadata": {},
   "outputs": [],
   "source": [
    "Y = sigmoid(Z)"
   ]
  },
  {
   "cell_type": "code",
   "execution_count": 8,
   "id": "6a7be126",
   "metadata": {},
   "outputs": [
    {
     "name": "stdout",
     "output_type": "stream",
     "text": [
      "302.17851944645804\n"
     ]
    }
   ],
   "source": [
    "def cross_entropy(T, Y):\n",
    "    E = 0\n",
    "    for i in range(N):\n",
    "        if T[i] == 1:\n",
    "            E -= np.log(Y[i])\n",
    "        else:\n",
    "            E -= np.log(1 - Y[i])\n",
    "    return E\n",
    "\n",
    "print(cross_entropy(T, Y))"
   ]
  },
  {
   "cell_type": "code",
   "execution_count": 9,
   "id": "feac8fc2",
   "metadata": {},
   "outputs": [],
   "source": [
    "w2 = np.array([0, 4, 4])"
   ]
  },
  {
   "cell_type": "code",
   "execution_count": 10,
   "id": "b1d37a11",
   "metadata": {},
   "outputs": [
    {
     "data": {
      "text/plain": [
       "0.03253988539751904"
      ]
     },
     "execution_count": 10,
     "metadata": {},
     "output_type": "execute_result"
    }
   ],
   "source": [
    "z2 = Xb.dot(w2)\n",
    "\n",
    "Y2 = sigmoid(z2)\n",
    "\n",
    "cross_entropy(T, Y2)"
   ]
  },
  {
   "cell_type": "code",
   "execution_count": 11,
   "id": "9eb1c30a",
   "metadata": {},
   "outputs": [
    {
     "data": {
      "image/png": "[encoded data removed]",
      "text/plain": [
       "<Figure size 432x288 with 1 Axes>"
      ]
     },
     "metadata": {
      "needs_background": "light"
     },
     "output_type": "display_data"
    }
   ],
   "source": [
    "plt.scatter(X[:, 0], X[:, 1], c=T, s=100, alpha=0.5)\n",
    "x_axis = np.linspace(-6, -6, 100)\n",
    "y_axis = -x_axis\n",
    "plt.plot(x_axis, y_axis)\n",
    "plt.show()"
   ]
  },
  {
   "cell_type": "markdown",
   "id": "b4fdf8b6",
   "metadata": {},
   "source": [
    "### Gradient Descent"
   ]
  },
  {
   "cell_type": "code",
   "execution_count": 14,
   "id": "6eb513c5",
   "metadata": {},
   "outputs": [
    {
     "data": {
      "text/plain": [
       "array([ 0.42631962, 19.86666626, 17.54129453])"
      ]
     },
     "execution_count": 14,
     "metadata": {},
     "output_type": "execute_result"
    }
   ],
   "source": [
    "w"
   ]
  },
  {
   "cell_type": "code",
   "execution_count": 16,
   "id": "a5b3ab4f",
   "metadata": {},
   "outputs": [
    {
     "name": "stdout",
     "output_type": "stream",
     "text": [
      "2.241887500500901e-08\n",
      "1.2134857485765387e-07\n",
      "5.602636440714352e-07\n",
      "2.242159241429787e-06\n",
      "7.892588434409206e-06\n",
      "2.476461049596456e-05\n",
      "7.009989254780093e-05\n",
      "0.00018093819465472467\n",
      "0.0004298914068068913\n",
      "0.0009478253377889189\n",
      "[0.15754203 7.27060686 6.42436499]\n"
     ]
    }
   ],
   "source": [
    "learning_rate = 0.1\n",
    "for i in range(100):\n",
    "    if i % 10 == 0:\n",
    "        print(cross_entropy(T, Y))\n",
    "    \n",
    "    w += learning_rate * (np.dot((T - Y).T, Xb) - 0.1 * w)\n",
    "    Y = sigmoid(Xb.dot(w))\n",
    "    \n",
    "print(w)"
   ]
  },
  {
   "cell_type": "code",
   "execution_count": null,
   "id": "a43d58f6",
   "metadata": {},
   "outputs": [],
   "source": []
  },
  {
   "cell_type": "code",
   "execution_count": null,
   "id": "371ba93f",
   "metadata": {},
   "outputs": [],
   "source": []
  }
 ],
 "metadata": {
  "kernelspec": {
   "display_name": "Python 3",
   "language": "python",
   "name": "python3"
  },
  "language_info": {
   "codemirror_mode": {
    "name": "ipython",
    "version": 3
   },
   "file_extension": ".py",
   "mimetype": "text/x-python",
   "name": "python",
   "nbconvert_exporter": "python",
   "pygments_lexer": "ipython3",
   "version": "3.8.8"
  }
 },
 "nbformat": 4,
 "nbformat_minor": 5
}
