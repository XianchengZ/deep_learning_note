{
 "cells": [
  {
   "cell_type": "markdown",
   "id": "80f9b4e4",
   "metadata": {},
   "source": [
    "# Numpy Prerequisite"
   ]
  },
  {
   "cell_type": "markdown",
   "id": "25df7dc4",
   "metadata": {},
   "source": [
    "### dot product"
   ]
  },
  {
   "cell_type": "code",
   "execution_count": 1,
   "id": "df33ccb5",
   "metadata": {},
   "outputs": [],
   "source": [
    "import numpy as np"
   ]
  },
  {
   "cell_type": "code",
   "execution_count": 2,
   "id": "d476a115",
   "metadata": {},
   "outputs": [],
   "source": [
    "a = np.array([1,2])\n",
    "b = np.array([2,1])"
   ]
  },
  {
   "cell_type": "markdown",
   "id": "4b44fa9d",
   "metadata": {},
   "source": [
    "method 1:"
   ]
  },
  {
   "cell_type": "code",
   "execution_count": 3,
   "id": "807c75c1",
   "metadata": {},
   "outputs": [
    {
     "data": {
      "text/plain": [
       "4"
      ]
     },
     "execution_count": 3,
     "metadata": {},
     "output_type": "execute_result"
    }
   ],
   "source": [
    "np.sum(a * b)"
   ]
  },
  {
   "cell_type": "markdown",
   "id": "76a10226",
   "metadata": {},
   "source": [
    "or"
   ]
  },
  {
   "cell_type": "code",
   "execution_count": 4,
   "id": "d5a6947e",
   "metadata": {},
   "outputs": [
    {
     "data": {
      "text/plain": [
       "4"
      ]
     },
     "execution_count": 4,
     "metadata": {},
     "output_type": "execute_result"
    }
   ],
   "source": [
    "(a*b).sum()"
   ]
  },
  {
   "cell_type": "markdown",
   "id": "2fa7f6e1",
   "metadata": {},
   "source": [
    "method 2:"
   ]
  },
  {
   "cell_type": "code",
   "execution_count": 5,
   "id": "4b17228f",
   "metadata": {},
   "outputs": [
    {
     "data": {
      "text/plain": [
       "4"
      ]
     },
     "execution_count": 5,
     "metadata": {},
     "output_type": "execute_result"
    }
   ],
   "source": [
    "np.dot(a, b)"
   ]
  },
  {
   "cell_type": "code",
   "execution_count": 6,
   "id": "29c8cc9d",
   "metadata": {
    "scrolled": true
   },
   "outputs": [
    {
     "data": {
      "text/plain": [
       "4"
      ]
     },
     "execution_count": 6,
     "metadata": {},
     "output_type": "execute_result"
    }
   ],
   "source": [
    "a.dot(b)"
   ]
  },
  {
   "cell_type": "markdown",
   "id": "90eeb145",
   "metadata": {},
   "source": [
    "### get the magnitude (norm)"
   ]
  },
  {
   "cell_type": "code",
   "execution_count": 8,
   "id": "aeb86542",
   "metadata": {},
   "outputs": [
    {
     "data": {
      "text/plain": [
       "2.23606797749979"
      ]
     },
     "execution_count": 8,
     "metadata": {},
     "output_type": "execute_result"
    }
   ],
   "source": [
    "norm = np.linalg.norm(a)\n",
    "norm"
   ]
  },
  {
   "cell_type": "markdown",
   "id": "1cceefb2",
   "metadata": {},
   "source": [
    "with the equation of dot product"
   ]
  },
  {
   "cell_type": "code",
   "execution_count": 10,
   "id": "c080d76c",
   "metadata": {},
   "outputs": [
    {
     "data": {
      "text/plain": [
       "0.7999999999999998"
      ]
     },
     "execution_count": 10,
     "metadata": {},
     "output_type": "execute_result"
    }
   ],
   "source": [
    "cos_angle = a.dot(b) / (np.linalg.norm(a) * np.linalg.norm(b) )\n",
    "cos_angle"
   ]
  },
  {
   "cell_type": "code",
   "execution_count": 12,
   "id": "f99d92bf",
   "metadata": {},
   "outputs": [
    {
     "data": {
      "text/plain": [
       "0.6435011087932847"
      ]
     },
     "execution_count": 12,
     "metadata": {},
     "output_type": "execute_result"
    }
   ],
   "source": [
    "angle = np.arccos(cos_angle)\n",
    "angle"
   ]
  },
  {
   "cell_type": "markdown",
   "id": "0462cd86",
   "metadata": {},
   "source": [
    "### Matrix and Vector"
   ]
  },
  {
   "cell_type": "code",
   "execution_count": 13,
   "id": "c2cb6744",
   "metadata": {},
   "outputs": [],
   "source": [
    "M = np.array( [[1,2], [3,4] ])"
   ]
  },
  {
   "cell_type": "code",
   "execution_count": 14,
   "id": "318b2d84",
   "metadata": {},
   "outputs": [],
   "source": [
    "L = [[1,2], [3,4]]"
   ]
  },
  {
   "cell_type": "code",
   "execution_count": 15,
   "id": "d81cc69a",
   "metadata": {},
   "outputs": [
    {
     "data": {
      "text/plain": [
       "1"
      ]
     },
     "execution_count": 15,
     "metadata": {},
     "output_type": "execute_result"
    }
   ],
   "source": [
    "L[0][0]"
   ]
  },
  {
   "cell_type": "code",
   "execution_count": 16,
   "id": "3dd34674",
   "metadata": {},
   "outputs": [
    {
     "data": {
      "text/plain": [
       "1"
      ]
     },
     "execution_count": 16,
     "metadata": {},
     "output_type": "execute_result"
    }
   ],
   "source": [
    "M[0][0]"
   ]
  },
  {
   "cell_type": "code",
   "execution_count": 17,
   "id": "e8f00be6",
   "metadata": {},
   "outputs": [
    {
     "data": {
      "text/plain": [
       "1"
      ]
     },
     "execution_count": 17,
     "metadata": {},
     "output_type": "execute_result"
    }
   ],
   "source": [
    "M[0,0]"
   ]
  },
  {
   "cell_type": "code",
   "execution_count": 18,
   "id": "9889a657",
   "metadata": {},
   "outputs": [],
   "source": [
    "M2 = np.matrix( [[1,2], [3,4] ])"
   ]
  },
  {
   "cell_type": "code",
   "execution_count": 19,
   "id": "23c31987",
   "metadata": {},
   "outputs": [
    {
     "data": {
      "text/plain": [
       "matrix([[1, 2],\n",
       "        [3, 4]])"
      ]
     },
     "execution_count": 19,
     "metadata": {},
     "output_type": "execute_result"
    }
   ],
   "source": [
    "M2"
   ]
  },
  {
   "cell_type": "code",
   "execution_count": 21,
   "id": "0a256228",
   "metadata": {},
   "outputs": [
    {
     "data": {
      "text/plain": [
       "array([[1, 2],\n",
       "       [3, 4]])"
      ]
     },
     "execution_count": 21,
     "metadata": {},
     "output_type": "execute_result"
    }
   ],
   "source": [
    "A = np.array(M2)\n",
    "A"
   ]
  },
  {
   "cell_type": "code",
   "execution_count": 22,
   "id": "06a3514b",
   "metadata": {},
   "outputs": [
    {
     "data": {
      "text/plain": [
       "array([[1, 3],\n",
       "       [2, 4]])"
      ]
     },
     "execution_count": 22,
     "metadata": {},
     "output_type": "execute_result"
    }
   ],
   "source": [
    "A.T"
   ]
  },
  {
   "cell_type": "markdown",
   "id": "bf7c7037",
   "metadata": {},
   "source": [
    "### Generating Matrix to Work With"
   ]
  },
  {
   "cell_type": "code",
   "execution_count": 23,
   "id": "9c31dc1b",
   "metadata": {},
   "outputs": [
    {
     "data": {
      "text/plain": [
       "array([0., 0., 0., 0., 0., 0., 0., 0., 0., 0.])"
      ]
     },
     "execution_count": 23,
     "metadata": {},
     "output_type": "execute_result"
    }
   ],
   "source": [
    "z = np.zeros(10)\n",
    "z"
   ]
  },
  {
   "cell_type": "code",
   "execution_count": 24,
   "id": "d9c2449d",
   "metadata": {},
   "outputs": [
    {
     "data": {
      "text/plain": [
       "array([[0., 0., 0., 0., 0., 0., 0., 0., 0., 0.],\n",
       "       [0., 0., 0., 0., 0., 0., 0., 0., 0., 0.],\n",
       "       [0., 0., 0., 0., 0., 0., 0., 0., 0., 0.],\n",
       "       [0., 0., 0., 0., 0., 0., 0., 0., 0., 0.],\n",
       "       [0., 0., 0., 0., 0., 0., 0., 0., 0., 0.],\n",
       "       [0., 0., 0., 0., 0., 0., 0., 0., 0., 0.],\n",
       "       [0., 0., 0., 0., 0., 0., 0., 0., 0., 0.],\n",
       "       [0., 0., 0., 0., 0., 0., 0., 0., 0., 0.],\n",
       "       [0., 0., 0., 0., 0., 0., 0., 0., 0., 0.],\n",
       "       [0., 0., 0., 0., 0., 0., 0., 0., 0., 0.]])"
      ]
     },
     "execution_count": 24,
     "metadata": {},
     "output_type": "execute_result"
    }
   ],
   "source": [
    "z = np.zeros((10,10))\n",
    "z"
   ]
  },
  {
   "cell_type": "code",
   "execution_count": 25,
   "id": "906eca88",
   "metadata": {},
   "outputs": [
    {
     "data": {
      "text/plain": [
       "array([[1., 1., 1., 1., 1., 1., 1., 1., 1., 1.],\n",
       "       [1., 1., 1., 1., 1., 1., 1., 1., 1., 1.],\n",
       "       [1., 1., 1., 1., 1., 1., 1., 1., 1., 1.],\n",
       "       [1., 1., 1., 1., 1., 1., 1., 1., 1., 1.],\n",
       "       [1., 1., 1., 1., 1., 1., 1., 1., 1., 1.],\n",
       "       [1., 1., 1., 1., 1., 1., 1., 1., 1., 1.],\n",
       "       [1., 1., 1., 1., 1., 1., 1., 1., 1., 1.],\n",
       "       [1., 1., 1., 1., 1., 1., 1., 1., 1., 1.],\n",
       "       [1., 1., 1., 1., 1., 1., 1., 1., 1., 1.],\n",
       "       [1., 1., 1., 1., 1., 1., 1., 1., 1., 1.]])"
      ]
     },
     "execution_count": 25,
     "metadata": {},
     "output_type": "execute_result"
    }
   ],
   "source": [
    "o = np.ones((10,10))\n",
    "o"
   ]
  },
  {
   "cell_type": "code",
   "execution_count": 27,
   "id": "a90a4698",
   "metadata": {},
   "outputs": [
    {
     "data": {
      "text/plain": [
       "array([[0.71969695, 0.80882614, 0.71025984, 0.22474506, 0.92161465,\n",
       "        0.82651664, 0.24345664, 0.23721699, 0.99007768, 0.1174372 ],\n",
       "       [0.51587574, 0.46188056, 0.95452475, 0.70997165, 0.05504152,\n",
       "        0.67602146, 0.99526056, 0.22848687, 0.07889571, 0.62999153],\n",
       "       [0.99697825, 0.69455099, 0.68444817, 0.07703765, 0.36065678,\n",
       "        0.29398529, 0.7741785 , 0.41645612, 0.06176269, 0.76896925],\n",
       "       [0.04489332, 0.05371527, 0.4692093 , 0.8458374 , 0.8719796 ,\n",
       "        0.78285994, 0.35340751, 0.03720139, 0.61551677, 0.21816002],\n",
       "       [0.56118202, 0.11944033, 0.5004039 , 0.88796386, 0.69342508,\n",
       "        0.54451246, 0.26046183, 0.45609792, 0.11953972, 0.14444584],\n",
       "       [0.23570848, 0.44073764, 0.07518254, 0.17498903, 0.15623875,\n",
       "        0.56841661, 0.58880884, 0.08661115, 0.70829236, 0.14227426],\n",
       "       [0.81103728, 0.05721257, 0.44431801, 0.90186476, 0.55491129,\n",
       "        0.11666939, 0.48259139, 0.01126355, 0.09709319, 0.87162802],\n",
       "       [0.68688756, 0.3128831 , 0.0719936 , 0.07672768, 0.30776436,\n",
       "        0.16487637, 0.50110542, 0.7827    , 0.80390719, 0.66229837],\n",
       "       [0.15044593, 0.51307122, 0.41031239, 0.60068285, 0.95133194,\n",
       "        0.83605775, 0.51271245, 0.69649297, 0.7995976 , 0.3311779 ],\n",
       "       [0.21912033, 0.69285881, 0.32639998, 0.62815871, 0.39037614,\n",
       "        0.69049159, 0.99071147, 0.90785196, 0.31371326, 0.65022254]])"
      ]
     },
     "execution_count": 27,
     "metadata": {},
     "output_type": "execute_result"
    }
   ],
   "source": [
    "R = np.random.random((10, 10))\n",
    "R"
   ]
  },
  {
   "cell_type": "markdown",
   "id": "4594d2db",
   "metadata": {},
   "source": [
    "gaussian distribution"
   ]
  },
  {
   "cell_type": "code",
   "execution_count": 29,
   "id": "b38c5170",
   "metadata": {},
   "outputs": [
    {
     "data": {
      "text/plain": [
       "array([[ 0.69378852, -0.50002181, -0.30192674,  1.37061493,  0.10317433,\n",
       "        -0.73319191,  1.5648944 ,  0.23034759, -1.62266607, -0.01007993],\n",
       "       [-0.55746907, -0.58486518, -0.59526392, -1.95126627, -1.36109015,\n",
       "         2.39480517,  0.11556491, -0.86621943,  0.19861099, -1.70731645],\n",
       "       [ 1.11159568,  1.10046423, -0.28614286, -0.63405843, -1.92706339,\n",
       "        -1.28880368,  0.97601385,  0.29490806, -0.32573186,  0.11642323],\n",
       "       [-2.57093756,  0.27607638,  1.24739476,  0.43292566,  0.66817204,\n",
       "        -0.94089156,  0.46920729, -0.83167636,  1.06427151,  1.02264862],\n",
       "       [-0.63999817, -0.43641509,  0.10018575,  0.55395932,  0.45624546,\n",
       "         0.62717795, -1.8134937 , -0.0473118 , -0.30779808,  0.70345504],\n",
       "       [ 0.4640783 ,  0.86034415, -0.48623586, -1.06616022,  0.29611968,\n",
       "         1.33645486,  1.61126905, -0.2130055 ,  0.70744197, -0.95572759],\n",
       "       [ 2.3962623 , -1.59087053, -0.70728893, -0.81974891,  0.22724652,\n",
       "         1.06228239,  0.23527015, -0.11184007,  0.66701292, -1.51176249],\n",
       "       [-0.13455257,  0.38061983, -0.99340597,  0.08888312, -0.43315005,\n",
       "        -1.32609343, -2.31881282,  0.54551952,  0.10748468, -1.46367464],\n",
       "       [-0.31598315,  0.88459595, -1.0943434 ,  1.50973799, -2.02867871,\n",
       "        -0.58404665,  0.36678724, -1.77655903, -0.84974358,  0.7263951 ],\n",
       "       [ 0.95552508,  0.76844215,  0.26665788,  0.27313081,  1.15858782,\n",
       "        -0.43264838, -0.67491348, -2.26171071, -0.75350876, -0.93235792]])"
      ]
     },
     "execution_count": 29,
     "metadata": {},
     "output_type": "execute_result"
    }
   ],
   "source": [
    "G = np.random.randn(10,10)\n",
    "G"
   ]
  },
  {
   "cell_type": "code",
   "execution_count": 30,
   "id": "81399331",
   "metadata": {},
   "outputs": [
    {
     "data": {
      "text/plain": [
       "-0.12889447671773244"
      ]
     },
     "execution_count": 30,
     "metadata": {},
     "output_type": "execute_result"
    }
   ],
   "source": [
    "G.mean()"
   ]
  },
  {
   "cell_type": "code",
   "execution_count": 31,
   "id": "cd638dbe",
   "metadata": {},
   "outputs": [
    {
     "data": {
      "text/plain": [
       "1.0671487591272426"
      ]
     },
     "execution_count": 31,
     "metadata": {},
     "output_type": "execute_result"
    }
   ],
   "source": [
    "G.var()"
   ]
  },
  {
   "cell_type": "markdown",
   "id": "a8cf5043",
   "metadata": {},
   "source": [
    "### Matrix Products"
   ]
  },
  {
   "cell_type": "code",
   "execution_count": 40,
   "id": "6dfd2e0d",
   "metadata": {},
   "outputs": [
    {
     "data": {
      "text/plain": [
       "array([[1, 2],\n",
       "       [3, 4]])"
      ]
     },
     "execution_count": 40,
     "metadata": {},
     "output_type": "execute_result"
    }
   ],
   "source": [
    "A = np.array([[1,2], [3,4]])\n",
    "A"
   ]
  },
  {
   "cell_type": "code",
   "execution_count": 35,
   "id": "071eae3c",
   "metadata": {},
   "outputs": [
    {
     "data": {
      "text/plain": [
       "array([[-2. ,  1. ],\n",
       "       [ 1.5, -0.5]])"
      ]
     },
     "execution_count": 35,
     "metadata": {},
     "output_type": "execute_result"
    }
   ],
   "source": [
    "Ainv = np.linalg.inv(A)\n",
    "Ainv"
   ]
  },
  {
   "cell_type": "code",
   "execution_count": 36,
   "id": "bf6c5e12",
   "metadata": {},
   "outputs": [
    {
     "data": {
      "text/plain": [
       "array([[1.0000000e+00, 4.4408921e-16],\n",
       "       [0.0000000e+00, 1.0000000e+00]])"
      ]
     },
     "execution_count": 36,
     "metadata": {},
     "output_type": "execute_result"
    }
   ],
   "source": [
    "Ainv.dot(A)"
   ]
  },
  {
   "cell_type": "code",
   "execution_count": 37,
   "id": "65e9159d",
   "metadata": {},
   "outputs": [
    {
     "data": {
      "text/plain": [
       "array([[1.00000000e+00, 1.11022302e-16],\n",
       "       [0.00000000e+00, 1.00000000e+00]])"
      ]
     },
     "execution_count": 37,
     "metadata": {},
     "output_type": "execute_result"
    }
   ],
   "source": [
    "A.dot(Ainv)"
   ]
  },
  {
   "cell_type": "code",
   "execution_count": 38,
   "id": "8d2035ec",
   "metadata": {},
   "outputs": [
    {
     "data": {
      "text/plain": [
       "-2.0000000000000004"
      ]
     },
     "execution_count": 38,
     "metadata": {},
     "output_type": "execute_result"
    }
   ],
   "source": [
    "np.linalg.det(A)"
   ]
  },
  {
   "cell_type": "code",
   "execution_count": 39,
   "id": "57a320b8",
   "metadata": {},
   "outputs": [
    {
     "data": {
      "text/plain": [
       "array([1, 4])"
      ]
     },
     "execution_count": 39,
     "metadata": {},
     "output_type": "execute_result"
    }
   ],
   "source": [
    "np.diag(A)"
   ]
  },
  {
   "cell_type": "code",
   "execution_count": 41,
   "id": "73d058a1",
   "metadata": {},
   "outputs": [
    {
     "data": {
      "text/plain": [
       "array([[1, 0],\n",
       "       [0, 2]])"
      ]
     },
     "execution_count": 41,
     "metadata": {},
     "output_type": "execute_result"
    }
   ],
   "source": [
    "np.diag([1,2])"
   ]
  },
  {
   "cell_type": "code",
   "execution_count": 42,
   "id": "53fa1135",
   "metadata": {},
   "outputs": [],
   "source": [
    "a = np.array([1,2])\n",
    "b = np.array([3,4])"
   ]
  },
  {
   "cell_type": "code",
   "execution_count": 43,
   "id": "98b4db8b",
   "metadata": {},
   "outputs": [
    {
     "data": {
      "text/plain": [
       "array([[3, 4],\n",
       "       [6, 8]])"
      ]
     },
     "execution_count": 43,
     "metadata": {},
     "output_type": "execute_result"
    }
   ],
   "source": [
    "np.outer(a,b)"
   ]
  },
  {
   "cell_type": "code",
   "execution_count": 44,
   "id": "cd5fa943",
   "metadata": {},
   "outputs": [
    {
     "data": {
      "text/plain": [
       "11"
      ]
     },
     "execution_count": 44,
     "metadata": {},
     "output_type": "execute_result"
    }
   ],
   "source": [
    "np.inner(a,b)"
   ]
  },
  {
   "cell_type": "code",
   "execution_count": 45,
   "id": "e16edeaa",
   "metadata": {},
   "outputs": [
    {
     "data": {
      "text/plain": [
       "11"
      ]
     },
     "execution_count": 45,
     "metadata": {},
     "output_type": "execute_result"
    }
   ],
   "source": [
    "a.dot(b)"
   ]
  },
  {
   "cell_type": "markdown",
   "id": "d4fd1e5d",
   "metadata": {},
   "source": [
    "trace"
   ]
  },
  {
   "cell_type": "code",
   "execution_count": 46,
   "id": "38849e6f",
   "metadata": {},
   "outputs": [
    {
     "data": {
      "text/plain": [
       "5"
      ]
     },
     "execution_count": 46,
     "metadata": {},
     "output_type": "execute_result"
    }
   ],
   "source": [
    "np.diag(A).sum()"
   ]
  },
  {
   "cell_type": "code",
   "execution_count": 47,
   "id": "7a209a13",
   "metadata": {},
   "outputs": [
    {
     "data": {
      "text/plain": [
       "5"
      ]
     },
     "execution_count": 47,
     "metadata": {},
     "output_type": "execute_result"
    }
   ],
   "source": [
    "np.trace(A)"
   ]
  },
  {
   "cell_type": "markdown",
   "id": "beb335c2",
   "metadata": {},
   "source": [
    "Eigenvalue & Eigenvectors"
   ]
  },
  {
   "cell_type": "code",
   "execution_count": 50,
   "id": "e0a8a640",
   "metadata": {},
   "outputs": [],
   "source": [
    "X = np.random.rand(100,3)\n"
   ]
  },
  {
   "cell_type": "code",
   "execution_count": 53,
   "id": "2cc9c076",
   "metadata": {},
   "outputs": [
    {
     "data": {
      "text/plain": [
       "(100, 100)"
      ]
     },
     "execution_count": 53,
     "metadata": {},
     "output_type": "execute_result"
    }
   ],
   "source": [
    "cov = np.cov(X)\n",
    "cov.shape"
   ]
  },
  {
   "cell_type": "code",
   "execution_count": 54,
   "id": "6f86e5a4",
   "metadata": {},
   "outputs": [
    {
     "data": {
      "text/plain": [
       "(3, 3)"
      ]
     },
     "execution_count": 54,
     "metadata": {},
     "output_type": "execute_result"
    }
   ],
   "source": [
    "cov = np.cov(X.T)\n",
    "cov.shape"
   ]
  },
  {
   "cell_type": "code",
   "execution_count": null,
   "id": "557d2dc3",
   "metadata": {},
   "outputs": [],
   "source": []
  }
 ],
 "metadata": {
  "kernelspec": {
   "display_name": "Python 3",
   "language": "python",
   "name": "python3"
  },
  "language_info": {
   "codemirror_mode": {
    "name": "ipython",
    "version": 3
   },
   "file_extension": ".py",
   "mimetype": "text/x-python",
   "name": "python",
   "nbconvert_exporter": "python",
   "pygments_lexer": "ipython3",
   "version": "3.8.8"
  }
 },
 "nbformat": 4,
 "nbformat_minor": 5
}
