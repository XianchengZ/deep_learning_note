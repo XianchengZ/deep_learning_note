{
 "cells": [
  {
   "cell_type": "code",
   "execution_count": 21,
   "id": "9ecd7fdf",
   "metadata": {},
   "outputs": [],
   "source": [
    "import matplotlib.pyplot as plt"
   ]
  },
  {
   "cell_type": "code",
   "execution_count": 39,
   "id": "28d1f40c",
   "metadata": {},
   "outputs": [],
   "source": [
    "import numpy as np\n",
    "\n",
    "N = 100\n",
    "D = 2\n",
    "\n",
    "X = np.random.randn(N, D)"
   ]
  },
  {
   "cell_type": "code",
   "execution_count": 40,
   "id": "2de4211f",
   "metadata": {},
   "outputs": [],
   "source": [
    "X[:50, :] = X[:50, :] - 2 * np.ones((50, D))\n",
    "X[50:, :] = X[50:, :] + 2 * np.ones((50, D))\n",
    "\n",
    "T = np.array([0] * 50 + [1] * 50)"
   ]
  },
  {
   "cell_type": "code",
   "execution_count": 41,
   "id": "96614db1",
   "metadata": {},
   "outputs": [],
   "source": [
    "ones = np.array([[1] * N]).T\n",
    "Xb = np.concatenate((ones, X), axis=1)\n"
   ]
  },
  {
   "cell_type": "code",
   "execution_count": 42,
   "id": "f3faa9e2",
   "metadata": {},
   "outputs": [],
   "source": [
    "# random assign weights\n",
    "w = np.random.randn(D + 1)\n",
    "\n",
    "# calculate the model output\n",
    "Z = Xb.dot(w)"
   ]
  },
  {
   "cell_type": "code",
   "execution_count": 43,
   "id": "538fcc5e",
   "metadata": {},
   "outputs": [],
   "source": [
    "def sigmoid(z):\n",
    "    return 1 / (1 + np.exp(-z))"
   ]
  },
  {
   "cell_type": "code",
   "execution_count": 44,
   "id": "2fdb49d1",
   "metadata": {},
   "outputs": [],
   "source": [
    "Y = sigmoid(Z)"
   ]
  },
  {
   "cell_type": "code",
   "execution_count": 45,
   "id": "6a7be126",
   "metadata": {},
   "outputs": [
    {
     "name": "stdout",
     "output_type": "stream",
     "text": [
      "31.547480407077966\n"
     ]
    }
   ],
   "source": [
    "def cross_entropy(T, Y):\n",
    "    E = 0\n",
    "    for i in range(N):\n",
    "        if T[i] == 1:\n",
    "            E -= np.log(Y[i])\n",
    "        else:\n",
    "            E -= np.log(1 - Y[i])\n",
    "    return E\n",
    "\n",
    "print(cross_entropy(T, Y))"
   ]
  },
  {
   "cell_type": "code",
   "execution_count": 46,
   "id": "feac8fc2",
   "metadata": {},
   "outputs": [],
   "source": [
    "w2 = np.array([0, 4, 4])"
   ]
  },
  {
   "cell_type": "code",
   "execution_count": 47,
   "id": "b1d37a11",
   "metadata": {},
   "outputs": [
    {
     "data": {
      "text/plain": [
       "1.0251794017037312"
      ]
     },
     "execution_count": 47,
     "metadata": {},
     "output_type": "execute_result"
    }
   ],
   "source": [
    "z2 = Xb.dot(w2)\n",
    "\n",
    "Y2 = sigmoid(z2)\n",
    "\n",
    "cross_entropy(T, Y2)"
   ]
  },
  {
   "cell_type": "code",
   "execution_count": 52,
   "id": "9eb1c30a",
   "metadata": {},
   "outputs": [
    {
     "data": {
      "image/png": "[encoded data removed]",
      "text/plain": [
       "<Figure size 432x288 with 1 Axes>"
      ]
     },
     "metadata": {
      "needs_background": "light"
     },
     "output_type": "display_data"
    }
   ],
   "source": [
    "plt.scatter(X[:, 0], X[:, 1], c=T, s=100, alpha=0.5)\n",
    "x_axis = np.linspace(-6, -6, 100)\n",
    "y_axis = -x_axis\n",
    "plt.plot(x_axis, y_axis)\n",
    "plt.show()"
   ]
  },
  {
   "cell_type": "markdown",
   "id": "30f8a0e9",
   "metadata": {},
   "source": [
    "### Gradient Descent"
   ]
  },
  {
   "cell_type": "code",
   "execution_count": 53,
   "id": "64743cf2",
   "metadata": {},
   "outputs": [
    {
     "data": {
      "text/plain": [
       "array([ 2.08077667, 17.34011295, 13.68026368])"
      ]
     },
     "execution_count": 53,
     "metadata": {},
     "output_type": "execute_result"
    }
   ],
   "source": [
    "w"
   ]
  },
  {
   "cell_type": "code",
   "execution_count": 54,
   "id": "f3930bbb",
   "metadata": {},
   "outputs": [
    {
     "name": "stdout",
     "output_type": "stream",
     "text": [
      "1.5522010858860882\n",
      "0.8297704004302454\n",
      "0.4862667137430176\n",
      "0.32485732164308856\n",
      "0.2409016209143607\n",
      "0.19267161587254064\n",
      "0.1628446166529437\n",
      "0.143416363158528\n",
      "0.13029022762896483\n",
      "0.12118468584137579\n",
      "[-0.31790033 18.50175436 12.39480921]\n"
     ]
    }
   ],
   "source": [
    "learning_rate = 0.1\n",
    "for i in range(100):\n",
    "    if i % 10 == 0:\n",
    "        print(cross_entropy(T, Y))\n",
    "    \n",
    "    w += learning_rate * np.dot((T - Y).T, Xb)\n",
    "    Y = sigmoid(Xb.dot(w))\n",
    "    \n",
    "print(w)"
   ]
  },
  {
   "cell_type": "code",
   "execution_count": null,
   "id": "29a87717",
   "metadata": {},
   "outputs": [],
   "source": []
  },
  {
   "cell_type": "code",
   "execution_count": null,
   "id": "606b59c8",
   "metadata": {},
   "outputs": [],
   "source": []
  }
 ],
 "metadata": {
  "kernelspec": {
   "display_name": "Python 3",
   "language": "python",
   "name": "python3"
  },
  "language_info": {
   "codemirror_mode": {
    "name": "ipython",
    "version": 3
   },
   "file_extension": ".py",
   "mimetype": "text/x-python",
   "name": "python",
   "nbconvert_exporter": "python",
   "pygments_lexer": "ipython3",
   "version": "3.8.8"
  }
 },
 "nbformat": 4,
 "nbformat_minor": 5
}
