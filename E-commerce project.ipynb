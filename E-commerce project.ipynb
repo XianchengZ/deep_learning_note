{
 "cells": [
  {
   "cell_type": "code",
   "execution_count": 1,
   "id": "4d87f2ea",
   "metadata": {},
   "outputs": [],
   "source": [
    "import pandas as pd\n",
    "import numpy as np"
   ]
  },
  {
   "cell_type": "code",
   "execution_count": 14,
   "id": "8e542db9",
   "metadata": {},
   "outputs": [],
   "source": [
    "def get_data():\n",
    "    df = pd.read_csv(\"ecommerce_data.csv\")\n",
    "    data = df.to_numpy()\n",
    "    \n",
    "    X = data[:, :-1] # consis is_mobile, n_products_viewed, visit_duration, is_returning_visitor, time_of_day \n",
    "                     # 5 variables in total\n",
    "    Y = data[:, -1]\n",
    "    \n",
    "    \n",
    "    # normalization\n",
    "    X[:, 1] = (X[:, 1] - X[:, 1].mean()) / X[:,1].std() # normalize is_mobile\n",
    "    X[:, 2] = (X[:, 2] - X[:, 2].mean()) / X[:,2].std() # normalize n_products_viewed\n",
    "    \n",
    "    \n",
    "    N, D = X.shape # N should be 500 and D should be 6\n",
    "    \n",
    "    X2 = np.zeros((N, D+3))\n",
    "    X2[:, 0:(D-1)] = X[:, 0:(D-1)] # copy every col excep time_of_day\n",
    "    \n",
    "    for n in range(N):\n",
    "        t = int(X[n, D - 1])\n",
    "        X2[n, t+D-1] = 1\n",
    "        \n",
    "    # alternative\n",
    "#     Z = np.zeros((N,4))\n",
    "#     Z[np.arange(N), X[:, D-1].astype(np.int32)] = 1\n",
    "    return X2, Y"
   ]
  },
  {
   "cell_type": "code",
   "execution_count": 22,
   "id": "f82b0be1",
   "metadata": {},
   "outputs": [
    {
     "data": {
      "text/plain": [
       "(500, 8)"
      ]
     },
     "execution_count": 22,
     "metadata": {},
     "output_type": "execute_result"
    }
   ],
   "source": [
    "X2, Y = get_data()\n",
    "X2.shape\n",
    "# Y.shape"
   ]
  },
  {
   "cell_type": "code",
   "execution_count": 27,
   "id": "c7f8b1df",
   "metadata": {},
   "outputs": [],
   "source": [
    "def get_binary_data():\n",
    "    X, Y = get_data()\n",
    "    X2 = X[Y <= 1] # left with columns where the Y values are less than or equal to 1\n",
    "    Y2 = Y[Y <= 1]\n",
    "    return X2, Y2"
   ]
  },
  {
   "cell_type": "code",
   "execution_count": 28,
   "id": "e3b371ad",
   "metadata": {},
   "outputs": [],
   "source": [
    "X, Y = get_binary_data()"
   ]
  },
  {
   "cell_type": "code",
   "execution_count": 29,
   "id": "c2471563",
   "metadata": {},
   "outputs": [
    {
     "data": {
      "text/plain": [
       "(398,)"
      ]
     },
     "execution_count": 29,
     "metadata": {},
     "output_type": "execute_result"
    }
   ],
   "source": [
    "X.shape\n",
    "Y.shape"
   ]
  },
  {
   "cell_type": "code",
   "execution_count": 30,
   "id": "f833655b",
   "metadata": {},
   "outputs": [],
   "source": [
    "D = X.shape[1] # the col number"
   ]
  },
  {
   "cell_type": "code",
   "execution_count": 31,
   "id": "21d635e3",
   "metadata": {},
   "outputs": [],
   "source": [
    "W = np.random.randn(D) # random the weight"
   ]
  },
  {
   "cell_type": "code",
   "execution_count": 32,
   "id": "18789772",
   "metadata": {},
   "outputs": [],
   "source": [
    "b = 0"
   ]
  },
  {
   "cell_type": "code",
   "execution_count": 33,
   "id": "a08f8c7f",
   "metadata": {},
   "outputs": [],
   "source": [
    "def sigmoid(a):\n",
    "    return 1 / ( 1 + np.exp(-a))\n",
    "\n",
    "def prediction(X, W, b):\n",
    "    return np.round(sigmoid(X.dot(W) + b))\n",
    "\n",
    "def classification_rate(Y, P):\n",
    "    return np.mean(Y == P)"
   ]
  },
  {
   "cell_type": "code",
   "execution_count": 34,
   "id": "e2078598",
   "metadata": {},
   "outputs": [],
   "source": [
    "predictions = prediction(X, W, b)"
   ]
  },
  {
   "cell_type": "code",
   "execution_count": 35,
   "id": "34081244",
   "metadata": {},
   "outputs": [
    {
     "data": {
      "text/plain": [
       "0.36432160804020103"
      ]
     },
     "execution_count": 35,
     "metadata": {},
     "output_type": "execute_result"
    }
   ],
   "source": [
    "classification_rate(Y, predictions)"
   ]
  },
  {
   "cell_type": "code",
   "execution_count": null,
   "id": "6bbaa861",
   "metadata": {},
   "outputs": [],
   "source": []
  }
 ],
 "metadata": {
  "kernelspec": {
   "display_name": "Python 3",
   "language": "python",
   "name": "python3"
  },
  "language_info": {
   "codemirror_mode": {
    "name": "ipython",
    "version": 3
   },
   "file_extension": ".py",
   "mimetype": "text/x-python",
   "name": "python",
   "nbconvert_exporter": "python",
   "pygments_lexer": "ipython3",
   "version": "3.8.8"
  }
 },
 "nbformat": 4,
 "nbformat_minor": 5
}
