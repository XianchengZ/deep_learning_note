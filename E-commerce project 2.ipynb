{
 "cells": [
  {
   "cell_type": "code",
   "execution_count": 1,
   "id": "aab607de",
   "metadata": {},
   "outputs": [],
   "source": [
    "import numpy as np\n",
    "import matplotlib.pyplot as plt\n",
    "\n",
    "from sklearn.utils import shuffle\n",
    "from e_commerce_base import get_binary_data"
   ]
  },
  {
   "cell_type": "code",
   "execution_count": 2,
   "id": "6ed961c6",
   "metadata": {},
   "outputs": [],
   "source": [
    "X, Y = get_binary_data()"
   ]
  },
  {
   "cell_type": "code",
   "execution_count": 4,
   "id": "a3565ff0",
   "metadata": {},
   "outputs": [
    {
     "name": "stdout",
     "output_type": "stream",
     "text": [
      "(398, 8) (398,)\n"
     ]
    }
   ],
   "source": [
    "print(X.shape, Y.shape)"
   ]
  },
  {
   "cell_type": "markdown",
   "id": "2d310335",
   "metadata": {},
   "source": [
    "Split Training and testing set"
   ]
  },
  {
   "cell_type": "code",
   "execution_count": 10,
   "id": "34a7b146",
   "metadata": {},
   "outputs": [],
   "source": [
    "Xtrain = X[:-100]\n",
    "Ytrain = Y[:-100]\n",
    "Xtest = X[-100:]\n",
    "Ytest = Y[-100:]"
   ]
  },
  {
   "cell_type": "code",
   "execution_count": 6,
   "id": "67c69966",
   "metadata": {},
   "outputs": [],
   "source": [
    "D = X.shape[1]\n",
    "W = np.random.randn(D)\n",
    "b = 0"
   ]
  },
  {
   "cell_type": "code",
   "execution_count": 7,
   "id": "748575b7",
   "metadata": {},
   "outputs": [],
   "source": [
    "def sigmoid(a):\n",
    "    return 1 / (1 + np.exp(-a))\n",
    "\n",
    "def predict(X, W, b):\n",
    "    return sigmoid(X.dot(W) + b)\n",
    "\n",
    "def classification_rate(Y, P):\n",
    "    return np.mean(Y == P)"
   ]
  },
  {
   "cell_type": "code",
   "execution_count": 8,
   "id": "aa668393",
   "metadata": {},
   "outputs": [],
   "source": [
    "def cross_entropy(T, pY):\n",
    "    return -np.mean(T * np.log(pY) + (1 - T) * np.log(1 - pY))"
   ]
  },
  {
   "cell_type": "code",
   "execution_count": 9,
   "id": "5c1eaddb",
   "metadata": {},
   "outputs": [],
   "source": [
    "train_costs = []\n",
    "test_costs = []\n",
    "learning_rate = 0.001"
   ]
  },
  {
   "cell_type": "code",
   "execution_count": 11,
   "id": "97e92053",
   "metadata": {},
   "outputs": [
    {
     "name": "stdout",
     "output_type": "stream",
     "text": [
      "0 1.065682843536551 1.0928173258214473\n",
      "1000 0.20413275119024052 0.1307343471747734\n",
      "2000 0.20310338386956855 0.12604044114299462\n",
      "3000 0.20305070776671907 0.12514180572330524\n",
      "4000 0.20304737089801084 0.12492511537779645\n",
      "5000 0.20304714912859212 0.12486986783898629\n",
      "6000 0.2030471342112227 0.12485558009698758\n",
      "7000 0.20304713320468784 0.12485187150336831\n",
      "8000 0.20304713313671827 0.12485090796665432\n",
      "9000 0.20304713313212788 0.12485065756651632\n",
      "Final train classification_rate:  0.9697986577181208\n",
      "Final test classification_rate:  0.98\n"
     ]
    }
   ],
   "source": [
    "for i in range(10000):\n",
    "    pYtrain = predict(Xtrain, W, b)\n",
    "    pYtest = predict(Xtest, W, b)\n",
    "    \n",
    "    ctrain = cross_entropy(Ytrain, pYtrain)\n",
    "    ctest = cross_entropy(Ytest, pYtest)\n",
    "    train_costs.append(ctrain)\n",
    "    test_costs.append(ctest)\n",
    "    \n",
    "    W -= learning_rate * Xtrain.T.dot(pYtrain - Ytrain)\n",
    "    b -= learning_rate * (pYtrain - Ytrain).sum()\n",
    "    \n",
    "    if i % 1000 == 0:\n",
    "        print(i, ctrain, ctest)\n",
    "        \n",
    "print(\"Final train classification_rate: \", classification_rate(Ytrain, np.round(pYtrain)))\n",
    "print(\"Final test classification_rate: \", classification_rate(Ytest, np.round(pYtest)))"
   ]
  },
  {
   "cell_type": "code",
   "execution_count": 13,
   "id": "ca1ac657",
   "metadata": {},
   "outputs": [
    {
     "data": {
      "image/png": "[encoded data removed]",
      "text/plain": [
       "<Figure size 432x288 with 1 Axes>"
      ]
     },
     "metadata": {
      "needs_background": "light"
     },
     "output_type": "display_data"
    }
   ],
   "source": [
    "legend1 = plt.plot(train_costs, label='train_cost')\n",
    "legend2 = plt.plot(test_costs, label='test_cost')\n",
    "plt.legend([legend1, legend2])\n",
    "plt.show()"
   ]
  }
 ],
 "metadata": {
  "kernelspec": {
   "display_name": "Python 3",
   "language": "python",
   "name": "python3"
  },
  "language_info": {
   "codemirror_mode": {
    "name": "ipython",
    "version": 3
   },
   "file_extension": ".py",
   "mimetype": "text/x-python",
   "name": "python",
   "nbconvert_exporter": "python",
   "pygments_lexer": "ipython3",
   "version": "3.8.8"
  }
 },
 "nbformat": 4,
 "nbformat_minor": 5
}
